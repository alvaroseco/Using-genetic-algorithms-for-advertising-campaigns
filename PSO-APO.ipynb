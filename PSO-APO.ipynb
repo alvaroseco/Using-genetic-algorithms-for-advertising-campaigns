{
 "cells": [
  {
   "cell_type": "code",
   "execution_count": null,
   "id": "c2acb50f",
   "metadata": {},
   "outputs": [],
   "source": [
    "#https://pyswarms.readthedocs.io/en/latest/_modules/pyswarms/discrete/binary.html"
   ]
  },
  {
   "cell_type": "code",
   "execution_count": 6,
   "id": "e4ad0e59",
   "metadata": {},
   "outputs": [
    {
     "name": "stdout",
     "output_type": "stream",
     "text": [
      "The autoreload extension is already loaded. To reload it, use:\n",
      "  %reload_ext autoreload\n"
     ]
    }
   ],
   "source": [
    "# Import modules\n",
    "import numpy as np\n",
    "import random\n",
    "import pyswarms as ps\n",
    "from pyswarms.utils.functions import single_obj as fx"
   ]
  },
  {
   "cell_type": "code",
   "execution_count": 1,
   "id": "c0471d12",
   "metadata": {},
   "outputs": [],
   "source": [
    "#Inputs - Examples in Git Repository: https://github.com/alvaroseco/Using-genetic-algorithms-for-advertising-campaigns/tree/main"
   ]
  },
  {
   "cell_type": "code",
   "execution_count": 8,
   "id": "34225ac4",
   "metadata": {},
   "outputs": [],
   "source": [
    "#Functions\n",
    "\n",
    "#We transform the matrix A\n",
    "def transformA():\n",
    "    for i in range(n_segments):\n",
    "        for j in range(n_media):\n",
    "            if b[i] == 0:\n",
    "                A[i][j] = 0\n",
    "            else:\n",
    "                A[i][j] = A[i][j]/b[i]\n",
    "                if A[i][j] > 1:\n",
    "                    A[i][j] = 1\n",
    "\n",
    "max_cost = numpy.sum(c)\n",
    "                    \n",
    "#We see how much is left to be covered\n",
    "def yetToBeCovered(chromosome):\n",
    "    yetToBeCovered = [1]*n_segments\n",
    "    for i in range(n_segments):\n",
    "        if b[i] == 0:\n",
    "            yetToBeCovered[i] = 0\n",
    "    for k in range(n_media):\n",
    "        if chromosome[k] == 1:\n",
    "            for i in range(n_segments):\n",
    "                yetToBeCovered[i] -= A[i][k]\n",
    "    yetToBeCovered_total = 0\n",
    "    for i in range(n_segments):\n",
    "        if yetToBeCovered[i] <= 0:\n",
    "            yetToBeCovered[i] = 0\n",
    "        yetToBeCovered_total += yetToBeCovered[i]\n",
    "    return yetToBeCovered_total\n",
    "\n",
    "#It calculates the cost\n",
    "def calculate_cost(chromosome):\n",
    "    cost = 0\n",
    "    for i in range(n_media):\n",
    "        if chromosome[i] == 1:\n",
    "            cost += c[i]\n",
    "    return cost\n",
    "\n",
    "#We create the initial population\n",
    "def create_initial_population():\n",
    "    population = []\n",
    "    for i in range(population_size-1): \n",
    "        chromosome = []\n",
    "        for j in range(n_media):\n",
    "            chromosome.append(random.randint(0, 1))\n",
    "        population.append(chromosome)\n",
    "    population.append(greedy_solution)\n",
    "    return population\n",
    "\n",
    "\n",
    "#Gives the population score based on their fitness\n",
    "def fitness(population):\n",
    "    population = population.tolist()\n",
    "    fitnesses = []\n",
    "    for chromosome in population: \n",
    "        yetToBeCovered_total = yetToBeCovered(chromosome)\n",
    "        if yetToBeCovered_total > 0:\n",
    "            cost = max_cost + (yetToBeCovered_total*1000)\n",
    "        else:\n",
    "            cost = calculate_cost(chromosome)   \n",
    "        fitnesses.append(cost)\n",
    "    fitnesses = np.array(fitnesses)\n",
    "    return fitnesses\n",
    "\n",
    "transformA()"
   ]
  },
  {
   "cell_type": "code",
   "execution_count": null,
   "id": "3ee99a5a",
   "metadata": {
    "scrolled": false
   },
   "outputs": [
    {
     "name": "stderr",
     "output_type": "stream",
     "text": [
      "2023-09-16 14:17:00,694 - pyswarms.discrete.binary - INFO - Optimize for 10000 iters with {'c1': 1, 'c2': 1, 'w': 0.5, 'k': 30, 'p': 2}\n",
      "pyswarms.discrete.binary: 100%|█████████████████████████████████████████████████████████|10000/10000, best_cost=1.02e+5\n",
      "2023-09-16 14:25:10,126 - pyswarms.discrete.binary - INFO - Optimization finished | best cost: 102280.0, best pos: [0 0 0 0 0 1 1 0 0 0 0 0 0 0 0 0 0 0 0 0 0 0 0 0 0 0 0 0 0 0 0 1 0 0 0 0 0\n",
      " 0 0 0 0 0 1 0 1 1 1 1 1 1 1 1 1 1 1 1 1 1 0 0 0 0 0 0 0]\n",
      "2023-09-16 14:25:11,944 - pyswarms.discrete.binary - INFO - Optimize for 10000 iters with {'c1': 1, 'c2': 1, 'w': 0.5, 'k': 30, 'p': 2}\n",
      "pyswarms.discrete.binary: 100%|█████████████████████████████████████████████████████████|10000/10000, best_cost=1.02e+5\n",
      "2023-09-16 14:33:27,069 - pyswarms.discrete.binary - INFO - Optimization finished | best cost: 102280.0, best pos: [0 0 0 0 0 1 1 0 0 0 0 0 0 0 0 0 0 0 0 0 0 0 0 0 0 0 0 0 0 0 0 1 0 0 0 0 0\n",
      " 0 0 0 0 0 1 0 1 1 1 1 1 1 1 1 1 1 1 1 1 1 0 0 0 0 0 0 0]\n",
      "2023-09-16 14:33:29,514 - pyswarms.discrete.binary - INFO - Optimize for 10000 iters with {'c1': 1, 'c2': 1, 'w': 0.5, 'k': 30, 'p': 2}\n",
      "pyswarms.discrete.binary:   5%|███                                                        |513/10000, best_cost=1.02e+5"
     ]
    }
   ],
   "source": [
    "%%time\n",
    "\n",
    "greedy_solution=#Example:[0, 0, 0, 0, 0, 0, 0, 0, 0, 0, 0, 0, 0, 0, 0, 0, 0, 0, 0, 0, 1, 0, 0, 0, 0, 0, 0, 0, 0, 0, 0, 0, 0, 0, 0, 0, 0, 0, 0, 0, 0, 0, 0, 0, 0, 0, 1, 1, 1, 0, 0, 0, 0, 0, 0, 0, 0, 0, 0, 0, 0, 0, 0, 0, 0]\n",
    "population_size = \n",
    "#With greedy solution?\n",
    "greedy = False\n",
    "\n",
    "# Set-up hyperparameters\n",
    "options = {'c1': 1.6, 'c2': 1.1, 'w':0.5, 'k': 30, 'p': 2}\n",
    "list_best=[]\n",
    "for _ in range(50):\n",
    "    if greedy:\n",
    "        init_pos = create_initial_population()\n",
    "    else:\n",
    "        init_pos=None\n",
    "    # Call instance of PSO\n",
    "    optimizer = ps.discrete.BinaryPSO(n_particles=poblacion_size, dimensions=n_media, options=options, init_pos=intit_pos)\n",
    "\n",
    "    # Perform optimization\n",
    "    cost, pos = optimizer.optimize(fitness, iters=10000)\n",
    "    \n",
    "    list_best.append(cost)\n",
    "    \n",
    "print(np.mean(list_best))\n",
    "print(min(list_best))"
   ]
  }
 ],
 "metadata": {
  "kernelspec": {
   "display_name": "Python 3 (ipykernel)",
   "language": "python",
   "name": "python3"
  },
  "language_info": {
   "codemirror_mode": {
    "name": "ipython",
    "version": 3
   },
   "file_extension": ".py",
   "mimetype": "text/x-python",
   "name": "python",
   "nbconvert_exporter": "python",
   "pygments_lexer": "ipython3",
   "version": "3.9.13"
  }
 },
 "nbformat": 4,
 "nbformat_minor": 5
}
